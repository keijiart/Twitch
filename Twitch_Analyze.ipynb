{
 "cells": [
  {
   "cell_type": "markdown",
   "metadata": {},
   "source": [
    "## Analyze Twitch Gaming Data\n",
    "\n",
    "Twitch is the world’s leading live streaming platform for gamers, with 15 million daily active users. Using data to understand its users and products is one of the main responsibilities of the Twitch Science Team.\n",
    "\n",
    "In this project, we will be working with two tables that contain Twitch users’ stream viewing data and chat room usage data.\n",
    "\n",
    "Stream viewing data:\n",
    "\n",
    "- `stream` table\n",
    "\n",
    "Chat usage data:\n",
    "\n",
    "- `chat` table"
   ]
  },
  {
   "cell_type": "markdown",
   "metadata": {},
   "source": [
    "### Getting Started:\n",
    "\n",
    "Start by getting a feel for the stream table and the chat table.\n",
    "\n",
    "What are the column names?"
   ]
  },
  {
   "cell_type": "code",
   "execution_count": 1,
   "metadata": {},
   "outputs": [],
   "source": [
    "import pandas as pd\n",
    "import numpy as np\n",
    "from matplotlib import pyplot as plt"
   ]
  },
  {
   "cell_type": "code",
   "execution_count": 2,
   "metadata": {},
   "outputs": [],
   "source": [
    "stream = pd.read_csv('video_play.csv')\n",
    "chat = pd.read_csv('chat.csv')"
   ]
  },
  {
   "cell_type": "code",
   "execution_count": 3,
   "metadata": {},
   "outputs": [
    {
     "data": {
      "text/html": [
       "<div>\n",
       "<style scoped>\n",
       "    .dataframe tbody tr th:only-of-type {\n",
       "        vertical-align: middle;\n",
       "    }\n",
       "\n",
       "    .dataframe tbody tr th {\n",
       "        vertical-align: top;\n",
       "    }\n",
       "\n",
       "    .dataframe thead th {\n",
       "        text-align: right;\n",
       "    }\n",
       "</style>\n",
       "<table border=\"1\" class=\"dataframe\">\n",
       "  <thead>\n",
       "    <tr style=\"text-align: right;\">\n",
       "      <th></th>\n",
       "      <th>time</th>\n",
       "      <th>device_id</th>\n",
       "      <th>login</th>\n",
       "      <th>channel</th>\n",
       "      <th>country</th>\n",
       "      <th>player</th>\n",
       "      <th>game</th>\n",
       "      <th>stream_format</th>\n",
       "      <th>subscriber</th>\n",
       "    </tr>\n",
       "  </thead>\n",
       "  <tbody>\n",
       "    <tr>\n",
       "      <th>0</th>\n",
       "      <td>2015-01-01 18:33:52</td>\n",
       "      <td>40ffc2fa6534cf760becbdbf5311e31ad069e46e</td>\n",
       "      <td>085c1eb7b587bfe654f0df7b4ba7f4fc4013636c</td>\n",
       "      <td>frank</td>\n",
       "      <td>US</td>\n",
       "      <td>iphone_t</td>\n",
       "      <td>League of Legends</td>\n",
       "      <td>NaN</td>\n",
       "      <td>NaN</td>\n",
       "    </tr>\n",
       "    <tr>\n",
       "      <th>1</th>\n",
       "      <td>2015-01-01 23:35:33</td>\n",
       "      <td>9a8cc2b7162b99c0a0f501dc9a5ec4f68586a760</td>\n",
       "      <td>5ad49a7b408ce452140b180dd6efb57a9f4d22c7</td>\n",
       "      <td>george</td>\n",
       "      <td>US</td>\n",
       "      <td>site</td>\n",
       "      <td>DayZ</td>\n",
       "      <td>chunked</td>\n",
       "      <td>False</td>\n",
       "    </tr>\n",
       "    <tr>\n",
       "      <th>2</th>\n",
       "      <td>2015-01-01 04:39:38</td>\n",
       "      <td>2f9c3f9ee1033b71a3819564243f20ef3bec0183</td>\n",
       "      <td>5b9a43e68f019185f55615d0b83019dee4b5d06f</td>\n",
       "      <td>frank</td>\n",
       "      <td>US</td>\n",
       "      <td>site</td>\n",
       "      <td>League of Legends</td>\n",
       "      <td>chunked</td>\n",
       "      <td>False</td>\n",
       "    </tr>\n",
       "    <tr>\n",
       "      <th>3</th>\n",
       "      <td>2015-01-01 11:15:30</td>\n",
       "      <td>0cda8226ba2583424c80c3c1c22c1256b080ad17</td>\n",
       "      <td>02c7797faa4d8a3ff4b0c14ee1764b6817b53d0b</td>\n",
       "      <td>estelle</td>\n",
       "      <td>CH</td>\n",
       "      <td>site</td>\n",
       "      <td>Dota 2</td>\n",
       "      <td>high</td>\n",
       "      <td>False</td>\n",
       "    </tr>\n",
       "    <tr>\n",
       "      <th>4</th>\n",
       "      <td>2015-01-01 11:28:19</td>\n",
       "      <td>e3288ca5e3153aa85e32f64cdd994b7666968dcf</td>\n",
       "      <td>b920c228acbcbebee26d9c79f6eb73b73a9480c7</td>\n",
       "      <td>morty</td>\n",
       "      <td>FR</td>\n",
       "      <td>site</td>\n",
       "      <td>Heroes of the Storm</td>\n",
       "      <td>medium</td>\n",
       "      <td>False</td>\n",
       "    </tr>\n",
       "  </tbody>\n",
       "</table>\n",
       "</div>"
      ],
      "text/plain": [
       "                  time                                 device_id  \\\n",
       "0  2015-01-01 18:33:52  40ffc2fa6534cf760becbdbf5311e31ad069e46e   \n",
       "1  2015-01-01 23:35:33  9a8cc2b7162b99c0a0f501dc9a5ec4f68586a760   \n",
       "2  2015-01-01 04:39:38  2f9c3f9ee1033b71a3819564243f20ef3bec0183   \n",
       "3  2015-01-01 11:15:30  0cda8226ba2583424c80c3c1c22c1256b080ad17   \n",
       "4  2015-01-01 11:28:19  e3288ca5e3153aa85e32f64cdd994b7666968dcf   \n",
       "\n",
       "                                      login  channel country    player  \\\n",
       "0  085c1eb7b587bfe654f0df7b4ba7f4fc4013636c    frank      US  iphone_t   \n",
       "1  5ad49a7b408ce452140b180dd6efb57a9f4d22c7   george      US      site   \n",
       "2  5b9a43e68f019185f55615d0b83019dee4b5d06f    frank      US      site   \n",
       "3  02c7797faa4d8a3ff4b0c14ee1764b6817b53d0b  estelle      CH      site   \n",
       "4  b920c228acbcbebee26d9c79f6eb73b73a9480c7    morty      FR      site   \n",
       "\n",
       "                  game stream_format subscriber  \n",
       "0    League of Legends           NaN        NaN  \n",
       "1                 DayZ       chunked      False  \n",
       "2    League of Legends       chunked      False  \n",
       "3               Dota 2          high      False  \n",
       "4  Heroes of the Storm        medium      False  "
      ]
     },
     "execution_count": 3,
     "metadata": {},
     "output_type": "execute_result"
    }
   ],
   "source": [
    "stream.head()"
   ]
  },
  {
   "cell_type": "code",
   "execution_count": 4,
   "metadata": {},
   "outputs": [
    {
     "data": {
      "text/html": [
       "<div>\n",
       "<style scoped>\n",
       "    .dataframe tbody tr th:only-of-type {\n",
       "        vertical-align: middle;\n",
       "    }\n",
       "\n",
       "    .dataframe tbody tr th {\n",
       "        vertical-align: top;\n",
       "    }\n",
       "\n",
       "    .dataframe thead th {\n",
       "        text-align: right;\n",
       "    }\n",
       "</style>\n",
       "<table border=\"1\" class=\"dataframe\">\n",
       "  <thead>\n",
       "    <tr style=\"text-align: right;\">\n",
       "      <th></th>\n",
       "      <th>time</th>\n",
       "      <th>device_id</th>\n",
       "      <th>login</th>\n",
       "      <th>channel</th>\n",
       "      <th>country</th>\n",
       "      <th>player</th>\n",
       "      <th>game</th>\n",
       "    </tr>\n",
       "  </thead>\n",
       "  <tbody>\n",
       "    <tr>\n",
       "      <th>0</th>\n",
       "      <td>2015-01-01 18:45:50</td>\n",
       "      <td>70e2b95b5ac0d4c227e46966658d16b3e044996e</td>\n",
       "      <td>5c2f5c1f19a7738e16ed0be551d865e8a8fce71d</td>\n",
       "      <td>jerry</td>\n",
       "      <td>BY</td>\n",
       "      <td>NaN</td>\n",
       "      <td>Dota 2</td>\n",
       "    </tr>\n",
       "    <tr>\n",
       "      <th>1</th>\n",
       "      <td>2015-01-01 01:16:57</td>\n",
       "      <td>f2b9065b55fd80d6aa653ce989b489f4ec5198be</td>\n",
       "      <td>0d77740e4fb5ce77d94f9f6c8ef1f762990d0344</td>\n",
       "      <td>elaine</td>\n",
       "      <td>HK</td>\n",
       "      <td>NaN</td>\n",
       "      <td>Devil May Cry 4: Special Edition</td>\n",
       "    </tr>\n",
       "    <tr>\n",
       "      <th>2</th>\n",
       "      <td>2015-01-01 16:22:10</td>\n",
       "      <td>d448ba963d7e1023dd1b0a40b95d4f6611750692</td>\n",
       "      <td>77ab14c1fb815e1c369ba0cf7d4c56b4fe489997</td>\n",
       "      <td>frank</td>\n",
       "      <td>GB</td>\n",
       "      <td>iphone_t</td>\n",
       "      <td>League of Legends</td>\n",
       "    </tr>\n",
       "    <tr>\n",
       "      <th>3</th>\n",
       "      <td>2015-01-01 03:58:13</td>\n",
       "      <td>8d6823dc52b400b50aebf269bf1f03a36d19eeaa</td>\n",
       "      <td>91cb88c0743761589273fc5e800e7743ece46494</td>\n",
       "      <td>frank</td>\n",
       "      <td>US</td>\n",
       "      <td>iphone_t</td>\n",
       "      <td>League of Legends</td>\n",
       "    </tr>\n",
       "    <tr>\n",
       "      <th>4</th>\n",
       "      <td>2015-01-01 11:47:35</td>\n",
       "      <td>16c1e39594d62358d27ae604ad43a071f0d86bc4</td>\n",
       "      <td>51a9234f83d656607cfd7f26690c12d2ffbce353</td>\n",
       "      <td>estelle</td>\n",
       "      <td>DE</td>\n",
       "      <td>NaN</td>\n",
       "      <td>Dota 2</td>\n",
       "    </tr>\n",
       "  </tbody>\n",
       "</table>\n",
       "</div>"
      ],
      "text/plain": [
       "                  time                                 device_id  \\\n",
       "0  2015-01-01 18:45:50  70e2b95b5ac0d4c227e46966658d16b3e044996e   \n",
       "1  2015-01-01 01:16:57  f2b9065b55fd80d6aa653ce989b489f4ec5198be   \n",
       "2  2015-01-01 16:22:10  d448ba963d7e1023dd1b0a40b95d4f6611750692   \n",
       "3  2015-01-01 03:58:13  8d6823dc52b400b50aebf269bf1f03a36d19eeaa   \n",
       "4  2015-01-01 11:47:35  16c1e39594d62358d27ae604ad43a071f0d86bc4   \n",
       "\n",
       "                                      login  channel country    player  \\\n",
       "0  5c2f5c1f19a7738e16ed0be551d865e8a8fce71d    jerry      BY       NaN   \n",
       "1  0d77740e4fb5ce77d94f9f6c8ef1f762990d0344   elaine      HK       NaN   \n",
       "2  77ab14c1fb815e1c369ba0cf7d4c56b4fe489997    frank      GB  iphone_t   \n",
       "3  91cb88c0743761589273fc5e800e7743ece46494    frank      US  iphone_t   \n",
       "4  51a9234f83d656607cfd7f26690c12d2ffbce353  estelle      DE       NaN   \n",
       "\n",
       "                               game  \n",
       "0                            Dota 2  \n",
       "1  Devil May Cry 4: Special Edition  \n",
       "2                 League of Legends  \n",
       "3                 League of Legends  \n",
       "4                            Dota 2  "
      ]
     },
     "execution_count": 4,
     "metadata": {},
     "output_type": "execute_result"
    }
   ],
   "source": [
    "chat.head()"
   ]
  },
  {
   "cell_type": "markdown",
   "metadata": {},
   "source": [
    "What are the unique games in the stream table?"
   ]
  },
  {
   "cell_type": "code",
   "execution_count": 5,
   "metadata": {},
   "outputs": [
    {
     "data": {
      "text/plain": [
       "<bound method Series.unique of 0                       League of Legends\n",
       "1                                    DayZ\n",
       "2                       League of Legends\n",
       "3                                  Dota 2\n",
       "4                     Heroes of the Storm\n",
       "                       ...               \n",
       "526294    Hearthstone: Heroes of Warcraft\n",
       "526295      The Binding of Isaac: Rebirth\n",
       "526296                  League of Legends\n",
       "526297                  League of Legends\n",
       "526298                               DayZ\n",
       "Name: game, Length: 526299, dtype: object>"
      ]
     },
     "execution_count": 5,
     "metadata": {},
     "output_type": "execute_result"
    }
   ],
   "source": [
    "stream['game'].unique"
   ]
  },
  {
   "cell_type": "markdown",
   "metadata": {},
   "source": [
    "What are the unique channels in the stream table?"
   ]
  },
  {
   "cell_type": "code",
   "execution_count": 6,
   "metadata": {},
   "outputs": [
    {
     "data": {
      "text/plain": [
       "<bound method Series.unique of 0                                   Dota 2\n",
       "1         Devil May Cry 4: Special Edition\n",
       "2                        League of Legends\n",
       "3                        League of Legends\n",
       "4                                   Dota 2\n",
       "                        ...               \n",
       "148557                      World of Tanks\n",
       "148558                      World of Tanks\n",
       "148559                                DayZ\n",
       "148560                                DayZ\n",
       "148561                 Heroes of the Storm\n",
       "Name: game, Length: 148562, dtype: object>"
      ]
     },
     "execution_count": 6,
     "metadata": {},
     "output_type": "execute_result"
    }
   ],
   "source": [
    "chat['game'].unique"
   ]
  },
  {
   "cell_type": "markdown",
   "metadata": {},
   "source": [
    "### Aggregate Functions:\n",
    "\n",
    "What are the most popular games in the `stream` table?\n",
    "\n",
    "Create a list of games and their number of viewers using `GROUP BY`."
   ]
  },
  {
   "cell_type": "code",
   "execution_count": 7,
   "metadata": {},
   "outputs": [
    {
     "data": {
      "text/plain": [
       "game\n",
       "League of Legends                   193533\n",
       "Dota 2                               85608\n",
       "Counter-Strike: Global Offensive     54438\n",
       "DayZ                                 38004\n",
       "Heroes of the Storm                  35310\n",
       "The Binding of Isaac: Rebirth        29467\n",
       "Gaming Talk Shows                    28115\n",
       "World of Tanks                       15932\n",
       "Hearthstone: Heroes of Warcraft      14399\n",
       "Agar.io                              11480\n",
       "Rocket League                         7087\n",
       "ARK: Survival Evolved                 4158\n",
       "SpeedRunners                          3367\n",
       "Duck Game                             1063\n",
       "Fallout 3                              485\n",
       "Devil May Cry 4: Special Edition       231\n",
       "Breaking Point                         161\n",
       "Batman: Arkham Knight                  117\n",
       "Reign Of Kings                          50\n",
       "The Witcher 3: Wild Hunt                45\n",
       "Block N Load                            34\n",
       "Depth                                   27\n",
       "Mortal Kombat X                         22\n",
       "H1Z1                                     7\n",
       "Super Mario Bros.                        6\n",
       "Grand Theft Auto V                       5\n",
       "Music                                    4\n",
       "The Elder Scrolls V: Skyrim              3\n",
       "The Last of Us                           3\n",
       "Risk of Rain                             2\n",
       "Senran Kagura: Estival Versus            2\n",
       "Lucius                                   1\n",
       "Blackjack                                1\n",
       "Hektor                                   1\n",
       "Bridge Constructor Medieval              1\n",
       "Super Mario Bros. 3                      1\n",
       "Besiege                                  1\n",
       "The Sims 4                               1\n",
       "Choice Chamber                           1\n",
       "Cities: Skylines                         1\n",
       "You Must Build A Boat                    1\n",
       "Name: game, dtype: int64"
      ]
     },
     "execution_count": 7,
     "metadata": {},
     "output_type": "execute_result"
    }
   ],
   "source": [
    "game_count = stream.groupby(['game'])['game'].count()\n",
    "game_count.sort_values(ascending=False)"
   ]
  },
  {
   "cell_type": "markdown",
   "metadata": {},
   "source": [
    "These are some big numbers from the game League of Legends (also known as LoL).\n",
    "\n",
    "Where are these LoL stream viewers located? Create a list of countries and their number of LoL viewers using WHERE and GROUP BY."
   ]
  },
  {
   "cell_type": "code",
   "execution_count": 8,
   "metadata": {},
   "outputs": [
    {
     "data": {
      "text/plain": [
       "country\n",
       "US    85606\n",
       "CA    13034\n",
       "DE    10835\n",
       "GB     6964\n",
       "TR     4412\n",
       "      ...  \n",
       "AD        1\n",
       "SN        1\n",
       "SM        1\n",
       "GY        1\n",
       "A1        1\n",
       "Name: country, Length: 155, dtype: int64"
      ]
     },
     "execution_count": 8,
     "metadata": {},
     "output_type": "execute_result"
    }
   ],
   "source": [
    "Game_LOL = stream[stream.game == 'League of Legends']\n",
    "country_count = Game_LOL.groupby(['country'])['country'].count()\n",
    "country_count.sort_values(ascending=False)\n"
   ]
  },
  {
   "cell_type": "markdown",
   "metadata": {},
   "source": [
    "The player column contains the source the user is using to view the stream (site, iphone, android, etc).\n",
    "\n",
    "Create a list of players and their number of streamers."
   ]
  },
  {
   "cell_type": "code",
   "execution_count": 9,
   "metadata": {},
   "outputs": [
    {
     "data": {
      "text/plain": [
       "player\n",
       "site             246115\n",
       "iphone_t         100689\n",
       "android           93508\n",
       "ipad_t            53646\n",
       "embed             19819\n",
       "xbox_one           4863\n",
       "home               3479\n",
       "frontpage          1567\n",
       "amazon             1155\n",
       "xbox360             985\n",
       "roku                233\n",
       "chromecast          149\n",
       "facebook             83\n",
       "nvidia shield         3\n",
       "ouya                  3\n",
       "android_pip           2\n",
       "Name: player, dtype: int64"
      ]
     },
     "execution_count": 9,
     "metadata": {},
     "output_type": "execute_result"
    }
   ],
   "source": [
    "player_count = stream.groupby(['player'])['player'].count()\n",
    "player_count.sort_values(ascending=False)"
   ]
  },
  {
   "cell_type": "markdown",
   "metadata": {},
   "source": [
    "### How does view count change in the course of a day?\n",
    "\n",
    "Before we get started, let’s run this query and take a look at the time column from the stream table:\n",
    "\n",
    "`SELECT time FROM stream LIMIT 10;`\n",
    "\n",
    "The data type of the time column is DATETIME. It is for storing a date/time value in the database.\n",
    "\n",
    "Notice that the values are formatted like:\n",
    "\n",
    "`2015-01-01 18:33:52`\n",
    "\n",
    "So the format is:\n",
    "\n",
    "`YYYY-MM-DD HH:MM:SS`"
   ]
  },
  {
   "cell_type": "code",
   "execution_count": 13,
   "metadata": {},
   "outputs": [
    {
     "data": {
      "text/plain": [
       "0    2015-01-01 18:33:52\n",
       "1    2015-01-01 23:35:33\n",
       "2    2015-01-01 04:39:38\n",
       "3    2015-01-01 11:15:30\n",
       "4    2015-01-01 11:28:19\n",
       "Name: time, dtype: object"
      ]
     },
     "execution_count": 13,
     "metadata": {},
     "output_type": "execute_result"
    }
   ],
   "source": [
    "stream['time'].head()"
   ]
  }
 ],
 "metadata": {
  "interpreter": {
   "hash": "51ba172a9db2ba9bd6569a8a7361d34beb499103f4f240382399ffb78e49dc3f"
  },
  "kernelspec": {
   "display_name": "Python 3.9.7 ('base')",
   "language": "python",
   "name": "python3"
  },
  "language_info": {
   "codemirror_mode": {
    "name": "ipython",
    "version": 3
   },
   "file_extension": ".py",
   "mimetype": "text/x-python",
   "name": "python",
   "nbconvert_exporter": "python",
   "pygments_lexer": "ipython3",
   "version": "3.9.7"
  },
  "orig_nbformat": 4
 },
 "nbformat": 4,
 "nbformat_minor": 2
}
